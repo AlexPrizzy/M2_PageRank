{
 "cells": [
  {
   "cell_type": "markdown",
   "metadata": {},
   "source": [
    "# CS481: Intelligence Text Analysis and Knowledge Mining"
   ]
  },
  {
   "cell_type": "markdown",
   "metadata": {},
   "source": [
    "# About me\n",
    "- Zhao Wang <br>\n",
    "- Research: \n",
    "     - Natural Language Processing <br>\n",
    "     > Estimating the effect of word choice on audience perception <br>\n",
    "     - Machine Learning <br>\n",
    "     > Spurious correlations <br>\n",
    "     > Improve text classifier robustness <br>\n",
    "     - Social Media Analysis <br>\n",
    "     > Deceptive public messaging <br>\n",
    "     - Online communication platforms:\n",
    "     > Twitter, Yelp, Airbnb, IMDB, League of Legends"
   ]
  },
  {
   "cell_type": "markdown",
   "metadata": {},
   "source": [
    "# About the course\n",
    "- Practical introduction to NLP\n",
    "- Learn by example and real world tasks\n",
    "- A balance between theoretical and practical sides\n",
    "- Linguistic analysis and computational methods for NLP\n",
    "\n",
    "\n",
    "## Github repository\n",
    "- https://github.com/iit-cs481/main\n",
    "\n",
    "## Schedule\n",
    "\n",
    "## Exams and quizes\n",
    "\n",
    "## Softwares and packages\n",
    "- recommend to install **anaconda**\n",
    "- make sure you use **python3** and **nltk3**\n"
   ]
  },
  {
   "cell_type": "markdown",
   "metadata": {},
   "source": [
    "### Why Python?\n",
    "- Python:\n",
    "    - Interpreted / Readable Programming Language <br>\n",
    "    - Has **a huge set of libraries that make it fit for AI, datascience**, etc. <br>\n",
    "    - Simple and powerful for processing language data <br>\n",
    "    - Short code, 3-4 times less than java <br>\n",
    "    - Shallow learning curve <br>\n",
    "    - Platform independent <br>\n",
    "    - Success stories in real world applications: https://www.python.org/about/success/\n",
    "\n",
    "- Java:\n",
    "    - Has libraries support for graphical interfaces <br>\n",
    "        - Software development <br>\n",
    "        - Mobile apps <br>\n",
    "    - Java has quite huge code <br>\n",
    "    - Platform / OS independent <br>\n",
    "\n",
    "- C++:\n",
    "    - A fast compiled programming language <br>\n",
    "        - time requirement <br>\n",
    "        - connect to hardware, e.g., EE <br>\n",
    "    - Has limited number of library support <br>\n",
    "    - Code length is less than java <br>\n",
    "    - Platform / OS dependent <br>"
   ]
  },
  {
   "cell_type": "markdown",
   "metadata": {},
   "source": [
    "### Why NLTK?\n",
    "- http://nltk.org/\n",
    "- Practical knowledge of NLP\n",
    "- Data corpora and lexical resources\n",
    "\n",
    "- APIs and documentation:\n",
    "> defines standard interfaces for performing NLP tasks (e.g.,POS tagging, syntactic parsing) <br>\n",
    "> covers every module, class, and function <br>\n",
    "> specifying parameters and showing examples of usage <br>\n",
    "\n",
    "- created in 2001\n",
    "> computational linguistics course in the Department of Computer and Information Science at the University of Pennsylvania <br>\n",
    "> Release the 1st version in February 2005 <br>\n"
   ]
  },
  {
   "cell_type": "code",
   "execution_count": 76,
   "metadata": {},
   "outputs": [
    {
     "data": {
      "text/plain": [
       "'3.3'"
      ]
     },
     "execution_count": 76,
     "metadata": {},
     "output_type": "execute_result"
    }
   ],
   "source": [
    "import nltk\n",
    "\n",
    "# check nltk version is 3\n",
    "nltk.__version__ "
   ]
  },
  {
   "cell_type": "code",
   "execution_count": null,
   "metadata": {},
   "outputs": [],
   "source": [
    "# from command line: nltk.download()\n",
    "# nltk.data.path.append(\"/data/3/zwang/nltk_data\") # setting environment variable to your path"
   ]
  },
  {
   "cell_type": "markdown",
   "metadata": {},
   "source": [
    "- nltk_data installation: https://www.nltk.org/data.html\n",
    "- Be careful of environment variables"
   ]
  },
  {
   "cell_type": "code",
   "execution_count": 86,
   "metadata": {},
   "outputs": [],
   "source": [
    "# test if the nltk_data is successfully installed\n",
    "from nltk.corpus import brown\n",
    "from nltk.book import *"
   ]
  },
  {
   "cell_type": "code",
   "execution_count": 87,
   "metadata": {},
   "outputs": [
    {
     "data": {
      "text/plain": [
       "<Text: Moby Dick by Herman Melville 1851>"
      ]
     },
     "execution_count": 87,
     "metadata": {},
     "output_type": "execute_result"
    }
   ],
   "source": [
    "text1"
   ]
  },
  {
   "cell_type": "code",
   "execution_count": 81,
   "metadata": {},
   "outputs": [
    {
     "name": "stdout",
     "output_type": "stream",
     "text": [
      "['[', 'Moby', 'Dick', 'by', 'Herman', 'Melville', '1851', ']', 'ETYMOLOGY', '.', '(', 'Supplied', 'by', 'a', 'Late', 'Consumptive', 'Usher', 'to', 'a', 'Grammar', 'School', ')', 'The', 'pale', 'Usher', '--', 'threadbare', 'in', 'coat', ',', 'heart', ',', 'body', ',', 'and', 'brain', ';', 'I', 'see', 'him', 'now', '.', 'He', 'was', 'ever', 'dusting', 'his', 'old', 'lexicons', 'and']\n"
     ]
    }
   ],
   "source": [
    "print(text1[:50])"
   ]
  },
  {
   "cell_type": "markdown",
   "metadata": {},
   "source": [
    "# What is Natural Language? \n",
    "- Natural language\n",
    "> Emerges from intelligent beings <br>\n",
    "> For human communication <br>\n",
    "> Full of ambiguity (e.g., meet me at the bank) <br>\n",
    "> Hard to specify with explicit rules <br>\n",
    "> We **discover** the grammar. <br>\n",
    "> English, Spanish, Chinese, Dolphin Language? <br>\n",
    "\n",
    "- Unnatural / Artificial / Formal language\n",
    "> Defined by humans <br>\n",
    "> We prescribe the grammar <br>\n",
    "> Designed to remove ambiguity <br>\n",
    "> Programming language like Python, Java, C++... <br>\n",
    "> Mathematical notations ... <br>"
   ]
  },
  {
   "cell_type": "markdown",
   "metadata": {},
   "source": [
    "## What is Natural Language Processing (NLP)?\n",
    "- NLP is the set of methods for making natural **language** accessible to **computers**. -- by Jacob Eisenstein\n",
    "- A branch of AI that deals with the interaction between **computers** and humans using the natural **language**.\n",
    "\n",
    "\n",
    "- Computational Linguistics\n",
    "    - Apply computational methods to make computers understand natural language <br>\n",
    "    - Model the structure and meaning of language in a way that computers can understand <br>\n",
    "    - Counting word frequencies in different docs to compare their writing styles <br>\n",
    "        - Twitter, short, unformal, emoji, abbrevations, ... <br>\n",
    "        - News report, long, formal, time, location, people, ...<br>\n",
    "        - Thesis, long, formal, definitions, notations, inference, prove, ...<br>\n",
    "    - Understanding human language <br>\n",
    "        - Information extraction <br>\n",
    "        - Text summarization <br>\n",
    "        - Language generation <br>\n",
    "        - Communicate with computers <br>\n",
    "        - Build intelligent machines to understand natural language<br>\n",
    "\n",
    "\n",
    "- Interdisciplinary: \n",
    "    - Artificial Intelligence\n",
    "    - Machine learning, statistical models, neural networks\n",
    "    - Linguistics, representations of language\n",
    "    - Social science, data and application in social issues\n",
    "    - Mathematics, Statistics, Psychology, etc... <br>\n",
    "\n",
    "\n",
    "- NLP+X\n",
    "    - computational social science\n",
    "    - computational humanities\n",
    "    - ..."
   ]
  },
  {
   "cell_type": "markdown",
   "metadata": {},
   "source": [
    "# The big picture of NLP"
   ]
  },
  {
   "cell_type": "markdown",
   "metadata": {},
   "source": [
    "## Real world applications "
   ]
  },
  {
   "cell_type": "markdown",
   "metadata": {},
   "source": [
    "### handwriting recognition \n",
    "    - character recognition\n",
    "    - misspelling words\n",
    "    - sentence reasonableness\n",
    "<img src=\"./handwriting.png\" width=\"200\">"
   ]
  },
  {
   "cell_type": "markdown",
   "metadata": {},
   "source": [
    "### Grammar checking (Grammarly)\n",
    "    - singular vs plural\n",
    "    - language model\n",
    "<img src=\"./grammarly.png\" width=\"800\">"
   ]
  },
  {
   "cell_type": "markdown",
   "metadata": {},
   "source": [
    "### Search engines and predictive text\n",
    "    - The most possible strings\n",
    "    - Information extraction\n",
    "    - The most relevant answer to the query\n",
    "    \n",
    "<img src=\"./predictive_text.png\" width=\"800\">"
   ]
  },
  {
   "cell_type": "markdown",
   "metadata": {},
   "source": [
    "### Product recommendation \n",
    "    - Items with most similar attributes and contents\n",
    "   \n",
    "\n",
    "<img src=\"./search_engine.png\" width=\"800\">"
   ]
  },
  {
   "cell_type": "markdown",
   "metadata": {},
   "source": [
    "### Machine Translation\n",
    "\n",
    "    - difficult because: \n",
    "         - a given word could have several possible translations (depending on its meaning), \n",
    "         - word order could change in keeping with the grammatical structure of the target language.\n",
    "         \n",
    "    - solutions:\n",
    "        - collect massive quantities of parallel texts in two or more languages\n",
    "        - text alignment to automatically pair up the sentences\n",
    "        - detect corresponding words and phrases\n",
    "        - train translation models to tranlate new texts\n",
    "\n",
    "<img src=\"./machine_translation.png\" width=\"800\">\n"
   ]
  },
  {
   "cell_type": "markdown",
   "metadata": {},
   "source": [
    "### User attribute analysis in tweets and blogs (e.g., gender, age, sentiment)\n",
    "    - text preprocessing (cleaning, remove emojis, abbrevations)\n",
    "    - attribute keywords\n",
    "    - text classification\n",
    "    \n",
    "<img src=\"./user_attri.png\" width=\"600\">\n",
    "\n"
   ]
  },
  {
   "cell_type": "markdown",
   "metadata": {},
   "source": [
    "### Chat-bot\n",
    "    - question answering system\n",
    "    - understand human language in specific context\n",
    "    - generate \"natural language\" to answer user's questions\n",
    "\n",
    "<img src=\"./chat_bot.png\" width=\"300\">"
   ]
  },
  {
   "cell_type": "markdown",
   "metadata": {},
   "source": [
    "### Other domains:\n",
    "    - scientific, economic, social, cultural\n",
    "    - Industry: HCI, information analysis, machine translation, information extraction\n",
    "    - Academia: computational linguistics, computer science, artificial intelligence,machine learning\n",
    "    - Job search"
   ]
  },
  {
   "cell_type": "markdown",
   "metadata": {},
   "source": [
    "## Why is NLP hard? \n",
    "- Language is a complex social process\n",
    "- Tremendous ambiguity at every level"
   ]
  },
  {
   "cell_type": "markdown",
   "metadata": {},
   "source": [
    "### Word sense disambiguation\n",
    "\n",
    "- Meet me at the **bank**.\n",
    "\n",
    "    - bank: the organization that provides finalcial services <br>\n",
    "    - bank: the side of a river\n",
    "\n",
    "- Which sense of a word was intended in a given context?"
   ]
  },
  {
   "cell_type": "markdown",
   "metadata": {},
   "source": [
    "### Pronoun Resolution\n",
    "\n",
    "1. The thieves stole the paintings. **They** were subsequently sold.\n",
    "\n",
    "2. The thieves stole the paintings. **They** were subsequently caught.\n",
    "\n",
    "3. The thieves stole the paintings. **They** were subsequently found.\n",
    "\n",
    "\n",
    "- Who did what to whom?\n",
    "    - identifying what a pronoun or noun phrase refers to\n",
    "    - semantic role labeling — identifying how a noun phrase relates to the verb (as agent, patient, instrument, and so on)."
   ]
  },
  {
   "cell_type": "markdown",
   "metadata": {},
   "source": [
    "### Spoken Dialog Systems\n",
    "- commonly assumed pipeline for NLP\n",
    "    - Analyze spoken input\n",
    "    - recognize words\n",
    "    - parse sentences\n",
    "    - interpreted in context\n",
    "    - application-specific actions (e.g., generating answers to a question, translation into another language)\n",
    "    - generate responses from computer aspect\n",
    "    - realized as a syntactic structure\n",
    "    - represent with suitable words \n",
    "    - generate spoken output <br>\n",
    "\n",
    "- different types of linguistic knowledge inform each stage of the process:\n",
    "    - phonology\n",
    "    - morphology\n",
    "    - syntax\n",
    "    - semantics\n",
    "    - reasoning\n",
    "\n",
    "<img src=\"./dialog.png\" width=\"600\">"
   ]
  },
  {
   "cell_type": "markdown",
   "metadata": {},
   "source": [
    "# Questions for you\n",
    "How many of you\n",
    "- ... are CS majors?\n",
    "- ... graduate vs under-graduate?\n",
    "- ... familiar with python?\n",
    "- ... have taken probability and statistics?\n",
    "- ... have taken machine learning / data mining / social media analysis?\n",
    "\n",
    "**Course survey**:\n",
    "\n",
    "    - https://forms.gle/nukxxPCfzD5P6cDD7"
   ]
  },
  {
   "cell_type": "code",
   "execution_count": null,
   "metadata": {},
   "outputs": [],
   "source": []
  }
 ],
 "metadata": {
  "kernelspec": {
   "display_name": "Python 3",
   "language": "python",
   "name": "python3"
  },
  "language_info": {
   "codemirror_mode": {
    "name": "ipython",
    "version": 3
   },
   "file_extension": ".py",
   "mimetype": "text/x-python",
   "name": "python",
   "nbconvert_exporter": "python",
   "pygments_lexer": "ipython3",
   "version": "3.7.0"
  },
  "toc": {
   "base_numbering": 1,
   "nav_menu": {},
   "number_sections": true,
   "sideBar": true,
   "skip_h1_title": false,
   "title_cell": "Table of Contents",
   "title_sidebar": "Contents",
   "toc_cell": false,
   "toc_position": {
    "height": "calc(100% - 180px)",
    "left": "10px",
    "top": "150px",
    "width": "217px"
   },
   "toc_section_display": true,
   "toc_window_display": true
  }
 },
 "nbformat": 4,
 "nbformat_minor": 2
}
